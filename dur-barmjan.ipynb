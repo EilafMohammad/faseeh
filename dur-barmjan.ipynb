{
 "cells": [
  {
   "cell_type": "code",
   "execution_count": 17,
   "id": "e517a36e",
   "metadata": {},
   "outputs": [],
   "source": [
    "!pip install --user -U -q nltk"
   ]
  },
  {
   "cell_type": "code",
   "execution_count": 15,
   "id": "7776934c",
   "metadata": {},
   "outputs": [],
   "source": [
    "import googletrans\n",
    "from googletrans import Translator"
   ]
  },
  {
   "cell_type": "code",
   "execution_count": 16,
   "id": "cccdb8b8",
   "metadata": {
    "scrolled": true
   },
   "outputs": [
    {
     "name": "stdout",
     "output_type": "stream",
     "text": [
      "{'af': 'afrikaans', 'sq': 'albanian', 'am': 'amharic', 'ar': 'arabic', 'hy': 'armenian', 'az': 'azerbaijani', 'eu': 'basque', 'be': 'belarusian', 'bn': 'bengali', 'bs': 'bosnian', 'bg': 'bulgarian', 'ca': 'catalan', 'ceb': 'cebuano', 'ny': 'chichewa', 'zh-cn': 'chinese (simplified)', 'zh-tw': 'chinese (traditional)', 'co': 'corsican', 'hr': 'croatian', 'cs': 'czech', 'da': 'danish', 'nl': 'dutch', 'en': 'english', 'eo': 'esperanto', 'et': 'estonian', 'tl': 'filipino', 'fi': 'finnish', 'fr': 'french', 'fy': 'frisian', 'gl': 'galician', 'ka': 'georgian', 'de': 'german', 'el': 'greek', 'gu': 'gujarati', 'ht': 'haitian creole', 'ha': 'hausa', 'haw': 'hawaiian', 'iw': 'hebrew', 'he': 'hebrew', 'hi': 'hindi', 'hmn': 'hmong', 'hu': 'hungarian', 'is': 'icelandic', 'ig': 'igbo', 'id': 'indonesian', 'ga': 'irish', 'it': 'italian', 'ja': 'japanese', 'jw': 'javanese', 'kn': 'kannada', 'kk': 'kazakh', 'km': 'khmer', 'ko': 'korean', 'ku': 'kurdish (kurmanji)', 'ky': 'kyrgyz', 'lo': 'lao', 'la': 'latin', 'lv': 'latvian', 'lt': 'lithuanian', 'lb': 'luxembourgish', 'mk': 'macedonian', 'mg': 'malagasy', 'ms': 'malay', 'ml': 'malayalam', 'mt': 'maltese', 'mi': 'maori', 'mr': 'marathi', 'mn': 'mongolian', 'my': 'myanmar (burmese)', 'ne': 'nepali', 'no': 'norwegian', 'or': 'odia', 'ps': 'pashto', 'fa': 'persian', 'pl': 'polish', 'pt': 'portuguese', 'pa': 'punjabi', 'ro': 'romanian', 'ru': 'russian', 'sm': 'samoan', 'gd': 'scots gaelic', 'sr': 'serbian', 'st': 'sesotho', 'sn': 'shona', 'sd': 'sindhi', 'si': 'sinhala', 'sk': 'slovak', 'sl': 'slovenian', 'so': 'somali', 'es': 'spanish', 'su': 'sundanese', 'sw': 'swahili', 'sv': 'swedish', 'tg': 'tajik', 'ta': 'tamil', 'te': 'telugu', 'th': 'thai', 'tr': 'turkish', 'uk': 'ukrainian', 'ur': 'urdu', 'ug': 'uyghur', 'uz': 'uzbek', 'vi': 'vietnamese', 'cy': 'welsh', 'xh': 'xhosa', 'yi': 'yiddish', 'yo': 'yoruba', 'zu': 'zulu'}\n"
     ]
    }
   ],
   "source": [
    "print(googletrans.LANGUAGES)"
   ]
  },
  {
   "cell_type": "code",
   "execution_count": 36,
   "id": "fa66545d",
   "metadata": {},
   "outputs": [
    {
     "name": "stdout",
     "output_type": "stream",
     "text": [
      "1\n"
     ]
    }
   ],
   "source": [
    "# Open your sample file\n",
    "file = open(\"sample.txt\", \"r\").read()\n",
    "\n",
    "# Tokenize the sample text into sentences.\n",
    "\n",
    "# Install and import the NLTK library\n",
    "from nltk.tokenize import sent_tokenize, word_tokenize\n",
    "\n",
    "# Split the file into sentences and get a list of sentences\n",
    "sentence_list = sent_tokenize(file)\n",
    "\n",
    "# See the number of the sentences in the list\n",
    "print(len(sentence_list))"
   ]
  },
  {
   "cell_type": "code",
   "execution_count": 37,
   "id": "1ddf2bf3",
   "metadata": {},
   "outputs": [
    {
     "name": "stdout",
     "output_type": "stream",
     "text": [
      "['They want to enter the same university the same specialty, Noura ask her more than one assistant to accept the same specialization, even though her rate is more than an assistant and a Noura was deprived of her dream and forced the second major intervention that was her first choice!']\n"
     ]
    }
   ],
   "source": [
    "# Define the translation model\n",
    "translator = Translator()\n",
    "\n",
    "# Create the final list\n",
    "translation_GT = []\n",
    "\n",
    "# Loop through the list of original sentences,\n",
    "# translate each and append the translation to the final list\n",
    "for i in sentence_list:\n",
    "      # Translate the sentence from Slovene (src = \"sl\") to English (dest = \"en\")\n",
    "        current_translation = translator.translate(i, src = \"ar\", dest='en')\n",
    "      # Append the translated sentence to the final list\n",
    "        translation_GT.append(current_translation.text)\n",
    "\n",
    "# See the results (first two translations)\n",
    "print(translation_GT[:2])"
   ]
  },
  {
   "cell_type": "code",
   "execution_count": 38,
   "id": "af85b4d2",
   "metadata": {},
   "outputs": [
    {
     "name": "stdout",
     "output_type": "stream",
     "text": [
      "['إنهم يريدون دخول الجامعة نفسها بنفس التخصص ، تطلب منها نورا أكثر من مساعد واحد لقبول نفس التخصص ، على الرغم من أن معدلها هو أكثر من مساعدًا ، وقد حرمت نورا من حلمها وأجبرت على التدخل الرئيسي الثاني الذي كان عليهالاختيار الاول!']\n"
     ]
    }
   ],
   "source": [
    "translation_AR = []\n",
    "# Loop through the list of original sentences,\n",
    "# translate each and append the translation to the final list\n",
    "for i in translation_GT:\n",
    "      # Translate the sentence from Slovene (src = \"sl\") to English (dest = \"en\")\n",
    "        current_translation = translator.translate(i, src = \"en\", dest='ar')\n",
    "      # Append the translated sentence to the final list\n",
    "        translation_AR.append(current_translation.text)\n",
    "\n",
    "# See the results (first two translations)\n",
    "print(translation_AR[:2])"
   ]
  },
  {
   "cell_type": "code",
   "execution_count": null,
   "id": "2f33c8da",
   "metadata": {},
   "outputs": [],
   "source": []
  }
 ],
 "metadata": {
  "kernelspec": {
   "display_name": "Python 3 (ipykernel)",
   "language": "python",
   "name": "python3"
  },
  "language_info": {
   "codemirror_mode": {
    "name": "ipython",
    "version": 3
   },
   "file_extension": ".py",
   "mimetype": "text/x-python",
   "name": "python",
   "nbconvert_exporter": "python",
   "pygments_lexer": "ipython3",
   "version": "3.11.4"
  }
 },
 "nbformat": 4,
 "nbformat_minor": 5
}
